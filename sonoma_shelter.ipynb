{
  "cells": [
    {
      "cell_type": "markdown",
      "metadata": {
        "id": "aab1aa45"
      },
      "source": [
        "#Exploration of Sonoma County Animal Shelter Data\n",
        "\n"
      ],
      "id": "aab1aa45"
    },
    {
      "cell_type": "markdown",
      "metadata": {
        "id": "8d17ef9f"
      },
      "source": [
        "By Siya Adrekar, Delight Lee, and Haider Syed\n",
        "\n",
        "11/4/22\n"
      ],
      "id": "8d17ef9f"
    },
    {
      "cell_type": "markdown",
      "metadata": {
        "id": "dd9d8a1b"
      },
      "source": [
        "## Introduction"
      ],
      "id": "dd9d8a1b"
    },
    {
      "cell_type": "markdown",
      "metadata": {
        "id": "sIojmTlhDUkZ"
      },
      "source": [
        "The Sonoma Animal Shelter is an animal hospital and shelter in Sonoma California that is responsible for over 4000 rescues and adoptions per year. We will be analyzing and comparing data of the Sonoma Animal Shelter collected by the Sonoma Department of Health Services in February, 2017.\n",
        "\n",
        "Within this data set, we will be specifically looking at the qualities of dogs and cats that have the highest chance to be adopted, and which of them get returned to their owners the most.\n",
        "\n",
        "This data set was gathered by the county of Sonoma Department of Health Services. We will be looking at what are the main factors of a pet being adopted or returned to their owner. Some of these factors include but are not limited to: Sex, Breed, Size, and Age."
      ],
      "id": "sIojmTlhDUkZ"
    },
    {
      "cell_type": "code",
      "execution_count": null,
      "metadata": {
        "id": "fdf3ed81"
      },
      "outputs": [],
      "source": [
        "import numpy as np\n",
        "import pandas as pd\n",
        "import seaborn as sns\n",
        "import matplotlib.pyplot as plt\n",
        "from matplotlib import rcParams\n",
        "from datetime import date\n",
        "import warnings"
      ],
      "id": "fdf3ed81"
    },
    {
      "cell_type": "markdown",
      "metadata": {
        "id": "f03dd8de"
      },
      "source": [
        "## Initial Data Exploration"
      ],
      "id": "f03dd8de"
    },
    {
      "cell_type": "code",
      "execution_count": null,
      "metadata": {
        "id": "8694f864"
      },
      "outputs": [],
      "source": [
        "df = pd.read_csv('https://raw.githubusercontent.com/grbruns/cst383/master/sonoma-shelter-12-2022.csv')"
      ],
      "id": "8694f864"
    },
    {
      "cell_type": "markdown",
      "metadata": {
        "id": "zj18AFtL5xwa"
      },
      "source": [
        "This dataset contains total of 22108 rows and 24 columns.\n",
        "\n",
        "Some of the column name meanings weren not clear just by the names, but they can be found at [Sonoma County Government site](https://data.sonomacounty.ca.gov/Government/Animal-Shelter-Intake-and-Outcome/924a-vesw).\n",
        "\n",
        "Most columns are of type object."
      ],
      "id": "zj18AFtL5xwa"
    },
    {
      "cell_type": "code",
      "execution_count": null,
      "metadata": {
        "id": "1LED4A9lDowe",
        "outputId": "e5d8b17a-0d44-4770-9dd3-8e6497f9d699",
        "colab": {
          "base_uri": "https://localhost:8080/"
        }
      },
      "outputs": [
        {
          "output_type": "stream",
          "name": "stdout",
          "text": [
            "<class 'pandas.core.frame.DataFrame'>\n",
            "RangeIndex: 22108 entries, 0 to 22107\n",
            "Data columns (total 24 columns):\n",
            " #   Column                Non-Null Count  Dtype  \n",
            "---  ------                --------------  -----  \n",
            " 0   Name                  16406 non-null  object \n",
            " 1   Type                  22108 non-null  object \n",
            " 2   Breed                 22108 non-null  object \n",
            " 3   Color                 22108 non-null  object \n",
            " 4   Sex                   22108 non-null  object \n",
            " 5   Size                  22075 non-null  object \n",
            " 6   Date Of Birth         16709 non-null  object \n",
            " 7   Impound Number        22108 non-null  object \n",
            " 8   Kennel Number         22099 non-null  object \n",
            " 9   Animal ID             22108 non-null  object \n",
            " 10  Intake Date           22108 non-null  object \n",
            " 11  Outcome Date          21972 non-null  object \n",
            " 12  Days in Shelter       22108 non-null  int64  \n",
            " 13  Intake Type           22108 non-null  object \n",
            " 14  Intake Subtype        22108 non-null  object \n",
            " 15  Outcome Type          21966 non-null  object \n",
            " 16  Outcome Subtype       21667 non-null  object \n",
            " 17  Intake Condition      22108 non-null  object \n",
            " 18  Outcome Condition     21637 non-null  object \n",
            " 19  Intake Jurisdiction   22108 non-null  object \n",
            " 20  Outcome Jurisdiction  19003 non-null  object \n",
            " 21  Outcome Zip Code      18924 non-null  float64\n",
            " 22  Location              18924 non-null  object \n",
            " 23  Count                 22108 non-null  int64  \n",
            "dtypes: float64(1), int64(2), object(21)\n",
            "memory usage: 4.0+ MB\n"
          ]
        }
      ],
      "source": [
        "df.info()"
      ],
      "id": "1LED4A9lDowe"
    },
    {
      "cell_type": "markdown",
      "metadata": {
        "id": "08Tj0f6T0bqT"
      },
      "source": [
        "This is an exploration of a few rows of the data.\n",
        "\n",
        "The asterisk in some of the values in the name column indicates that the names were given by shelter staff."
      ],
      "id": "08Tj0f6T0bqT"
    },
    {
      "cell_type": "code",
      "execution_count": null,
      "metadata": {
        "id": "Eeyrt2jd0Fkb",
        "outputId": "2b16202e-c3b4-44ba-9456-60ed68610a86",
        "colab": {
          "base_uri": "https://localhost:8080/",
          "height": 456
        }
      },
      "outputs": [
        {
          "output_type": "execute_result",
          "data": {
            "text/plain": [
              "      Name Type         Breed        Color       Sex   Size Date Of Birth  \\\n",
              "0     REMY  DOG        BEAGLE  BLACK/WHITE    Female    MED    04/11/2014   \n",
              "1   *RONDE  DOG  CHIHUAHUA SH          TAN  Neutered  SMALL    07/24/2020   \n",
              "2   *SNOOP  CAT   DOMESTIC SH         GRAY  Neutered  SMALL    08/04/2019   \n",
              "3     FIFI  CAT       SIAMESE      SEAL PT    Spayed  KITTN    10/27/2020   \n",
              "4  *MERLIN  CAT   DOMESTIC SH    BRN TABBY  Neutered  SMALL    01/16/2018   \n",
              "\n",
              "  Impound Number Kennel Number Animal ID  ...    Intake Subtype  \\\n",
              "0     K21-039564          DS69   A406645  ...             PHONE   \n",
              "1     K21-039133          DA30   A406003  ...             FIELD   \n",
              "2     K21-039232          CA02   A406151  ...             FIELD   \n",
              "3     K21-037796          CA03   A402286  ...  OVER THE COUNTER   \n",
              "4     K21-037709          CS05   A402139  ...             PHONE   \n",
              "\n",
              "      Outcome Type       Outcome Subtype Intake Condition Outcome Condition  \\\n",
              "0  RETURN TO OWNER  OVER THE COUNTER_WEB          UNKNOWN           PENDING   \n",
              "1         ADOPTION              SCAS WEB          HEALTHY           HEALTHY   \n",
              "2         ADOPTION              SCAS WEB          HEALTHY           HEALTHY   \n",
              "3         ADOPTION              SCAS WEB          UNKNOWN           PENDING   \n",
              "4         ADOPTION              SCAS WEB          UNKNOWN           PENDING   \n",
              "\n",
              "  Intake Jurisdiction Outcome Jurisdiction Outcome Zip Code  \\\n",
              "0          SANTA ROSA           SANTA ROSA          95407.0   \n",
              "1          SANTA ROSA            *PETALUMA          94954.0   \n",
              "2          SANTA ROSA           SANTA ROSA          95405.0   \n",
              "3          SANTA ROSA           SANTA ROSA          95407.0   \n",
              "4          SANTA ROSA               COUNTY          94952.0   \n",
              "\n",
              "                        Location Count  \n",
              "0  95407(38.403734, -122.736775)     1  \n",
              "1   94954(38.245316, -122.59871)     1  \n",
              "2  95405(38.439152, -122.672541)     1  \n",
              "3  95407(38.403734, -122.736775)     1  \n",
              "4  94952(38.236012, -122.730241)     1  \n",
              "\n",
              "[5 rows x 24 columns]"
            ],
            "text/html": [
              "\n",
              "  <div id=\"df-5e0120ac-929a-4823-9a67-d21e61a6c374\">\n",
              "    <div class=\"colab-df-container\">\n",
              "      <div>\n",
              "<style scoped>\n",
              "    .dataframe tbody tr th:only-of-type {\n",
              "        vertical-align: middle;\n",
              "    }\n",
              "\n",
              "    .dataframe tbody tr th {\n",
              "        vertical-align: top;\n",
              "    }\n",
              "\n",
              "    .dataframe thead th {\n",
              "        text-align: right;\n",
              "    }\n",
              "</style>\n",
              "<table border=\"1\" class=\"dataframe\">\n",
              "  <thead>\n",
              "    <tr style=\"text-align: right;\">\n",
              "      <th></th>\n",
              "      <th>Name</th>\n",
              "      <th>Type</th>\n",
              "      <th>Breed</th>\n",
              "      <th>Color</th>\n",
              "      <th>Sex</th>\n",
              "      <th>Size</th>\n",
              "      <th>Date Of Birth</th>\n",
              "      <th>Impound Number</th>\n",
              "      <th>Kennel Number</th>\n",
              "      <th>Animal ID</th>\n",
              "      <th>...</th>\n",
              "      <th>Intake Subtype</th>\n",
              "      <th>Outcome Type</th>\n",
              "      <th>Outcome Subtype</th>\n",
              "      <th>Intake Condition</th>\n",
              "      <th>Outcome Condition</th>\n",
              "      <th>Intake Jurisdiction</th>\n",
              "      <th>Outcome Jurisdiction</th>\n",
              "      <th>Outcome Zip Code</th>\n",
              "      <th>Location</th>\n",
              "      <th>Count</th>\n",
              "    </tr>\n",
              "  </thead>\n",
              "  <tbody>\n",
              "    <tr>\n",
              "      <th>0</th>\n",
              "      <td>REMY</td>\n",
              "      <td>DOG</td>\n",
              "      <td>BEAGLE</td>\n",
              "      <td>BLACK/WHITE</td>\n",
              "      <td>Female</td>\n",
              "      <td>MED</td>\n",
              "      <td>04/11/2014</td>\n",
              "      <td>K21-039564</td>\n",
              "      <td>DS69</td>\n",
              "      <td>A406645</td>\n",
              "      <td>...</td>\n",
              "      <td>PHONE</td>\n",
              "      <td>RETURN TO OWNER</td>\n",
              "      <td>OVER THE COUNTER_WEB</td>\n",
              "      <td>UNKNOWN</td>\n",
              "      <td>PENDING</td>\n",
              "      <td>SANTA ROSA</td>\n",
              "      <td>SANTA ROSA</td>\n",
              "      <td>95407.0</td>\n",
              "      <td>95407(38.403734, -122.736775)</td>\n",
              "      <td>1</td>\n",
              "    </tr>\n",
              "    <tr>\n",
              "      <th>1</th>\n",
              "      <td>*RONDE</td>\n",
              "      <td>DOG</td>\n",
              "      <td>CHIHUAHUA SH</td>\n",
              "      <td>TAN</td>\n",
              "      <td>Neutered</td>\n",
              "      <td>SMALL</td>\n",
              "      <td>07/24/2020</td>\n",
              "      <td>K21-039133</td>\n",
              "      <td>DA30</td>\n",
              "      <td>A406003</td>\n",
              "      <td>...</td>\n",
              "      <td>FIELD</td>\n",
              "      <td>ADOPTION</td>\n",
              "      <td>SCAS WEB</td>\n",
              "      <td>HEALTHY</td>\n",
              "      <td>HEALTHY</td>\n",
              "      <td>SANTA ROSA</td>\n",
              "      <td>*PETALUMA</td>\n",
              "      <td>94954.0</td>\n",
              "      <td>94954(38.245316, -122.59871)</td>\n",
              "      <td>1</td>\n",
              "    </tr>\n",
              "    <tr>\n",
              "      <th>2</th>\n",
              "      <td>*SNOOP</td>\n",
              "      <td>CAT</td>\n",
              "      <td>DOMESTIC SH</td>\n",
              "      <td>GRAY</td>\n",
              "      <td>Neutered</td>\n",
              "      <td>SMALL</td>\n",
              "      <td>08/04/2019</td>\n",
              "      <td>K21-039232</td>\n",
              "      <td>CA02</td>\n",
              "      <td>A406151</td>\n",
              "      <td>...</td>\n",
              "      <td>FIELD</td>\n",
              "      <td>ADOPTION</td>\n",
              "      <td>SCAS WEB</td>\n",
              "      <td>HEALTHY</td>\n",
              "      <td>HEALTHY</td>\n",
              "      <td>SANTA ROSA</td>\n",
              "      <td>SANTA ROSA</td>\n",
              "      <td>95405.0</td>\n",
              "      <td>95405(38.439152, -122.672541)</td>\n",
              "      <td>1</td>\n",
              "    </tr>\n",
              "    <tr>\n",
              "      <th>3</th>\n",
              "      <td>FIFI</td>\n",
              "      <td>CAT</td>\n",
              "      <td>SIAMESE</td>\n",
              "      <td>SEAL PT</td>\n",
              "      <td>Spayed</td>\n",
              "      <td>KITTN</td>\n",
              "      <td>10/27/2020</td>\n",
              "      <td>K21-037796</td>\n",
              "      <td>CA03</td>\n",
              "      <td>A402286</td>\n",
              "      <td>...</td>\n",
              "      <td>OVER THE COUNTER</td>\n",
              "      <td>ADOPTION</td>\n",
              "      <td>SCAS WEB</td>\n",
              "      <td>UNKNOWN</td>\n",
              "      <td>PENDING</td>\n",
              "      <td>SANTA ROSA</td>\n",
              "      <td>SANTA ROSA</td>\n",
              "      <td>95407.0</td>\n",
              "      <td>95407(38.403734, -122.736775)</td>\n",
              "      <td>1</td>\n",
              "    </tr>\n",
              "    <tr>\n",
              "      <th>4</th>\n",
              "      <td>*MERLIN</td>\n",
              "      <td>CAT</td>\n",
              "      <td>DOMESTIC SH</td>\n",
              "      <td>BRN TABBY</td>\n",
              "      <td>Neutered</td>\n",
              "      <td>SMALL</td>\n",
              "      <td>01/16/2018</td>\n",
              "      <td>K21-037709</td>\n",
              "      <td>CS05</td>\n",
              "      <td>A402139</td>\n",
              "      <td>...</td>\n",
              "      <td>PHONE</td>\n",
              "      <td>ADOPTION</td>\n",
              "      <td>SCAS WEB</td>\n",
              "      <td>UNKNOWN</td>\n",
              "      <td>PENDING</td>\n",
              "      <td>SANTA ROSA</td>\n",
              "      <td>COUNTY</td>\n",
              "      <td>94952.0</td>\n",
              "      <td>94952(38.236012, -122.730241)</td>\n",
              "      <td>1</td>\n",
              "    </tr>\n",
              "  </tbody>\n",
              "</table>\n",
              "<p>5 rows × 24 columns</p>\n",
              "</div>\n",
              "      <button class=\"colab-df-convert\" onclick=\"convertToInteractive('df-5e0120ac-929a-4823-9a67-d21e61a6c374')\"\n",
              "              title=\"Convert this dataframe to an interactive table.\"\n",
              "              style=\"display:none;\">\n",
              "        \n",
              "  <svg xmlns=\"http://www.w3.org/2000/svg\" height=\"24px\"viewBox=\"0 0 24 24\"\n",
              "       width=\"24px\">\n",
              "    <path d=\"M0 0h24v24H0V0z\" fill=\"none\"/>\n",
              "    <path d=\"M18.56 5.44l.94 2.06.94-2.06 2.06-.94-2.06-.94-.94-2.06-.94 2.06-2.06.94zm-11 1L8.5 8.5l.94-2.06 2.06-.94-2.06-.94L8.5 2.5l-.94 2.06-2.06.94zm10 10l.94 2.06.94-2.06 2.06-.94-2.06-.94-.94-2.06-.94 2.06-2.06.94z\"/><path d=\"M17.41 7.96l-1.37-1.37c-.4-.4-.92-.59-1.43-.59-.52 0-1.04.2-1.43.59L10.3 9.45l-7.72 7.72c-.78.78-.78 2.05 0 2.83L4 21.41c.39.39.9.59 1.41.59.51 0 1.02-.2 1.41-.59l7.78-7.78 2.81-2.81c.8-.78.8-2.07 0-2.86zM5.41 20L4 18.59l7.72-7.72 1.47 1.35L5.41 20z\"/>\n",
              "  </svg>\n",
              "      </button>\n",
              "      \n",
              "  <style>\n",
              "    .colab-df-container {\n",
              "      display:flex;\n",
              "      flex-wrap:wrap;\n",
              "      gap: 12px;\n",
              "    }\n",
              "\n",
              "    .colab-df-convert {\n",
              "      background-color: #E8F0FE;\n",
              "      border: none;\n",
              "      border-radius: 50%;\n",
              "      cursor: pointer;\n",
              "      display: none;\n",
              "      fill: #1967D2;\n",
              "      height: 32px;\n",
              "      padding: 0 0 0 0;\n",
              "      width: 32px;\n",
              "    }\n",
              "\n",
              "    .colab-df-convert:hover {\n",
              "      background-color: #E2EBFA;\n",
              "      box-shadow: 0px 1px 2px rgba(60, 64, 67, 0.3), 0px 1px 3px 1px rgba(60, 64, 67, 0.15);\n",
              "      fill: #174EA6;\n",
              "    }\n",
              "\n",
              "    [theme=dark] .colab-df-convert {\n",
              "      background-color: #3B4455;\n",
              "      fill: #D2E3FC;\n",
              "    }\n",
              "\n",
              "    [theme=dark] .colab-df-convert:hover {\n",
              "      background-color: #434B5C;\n",
              "      box-shadow: 0px 1px 3px 1px rgba(0, 0, 0, 0.15);\n",
              "      filter: drop-shadow(0px 1px 2px rgba(0, 0, 0, 0.3));\n",
              "      fill: #FFFFFF;\n",
              "    }\n",
              "  </style>\n",
              "\n",
              "      <script>\n",
              "        const buttonEl =\n",
              "          document.querySelector('#df-5e0120ac-929a-4823-9a67-d21e61a6c374 button.colab-df-convert');\n",
              "        buttonEl.style.display =\n",
              "          google.colab.kernel.accessAllowed ? 'block' : 'none';\n",
              "\n",
              "        async function convertToInteractive(key) {\n",
              "          const element = document.querySelector('#df-5e0120ac-929a-4823-9a67-d21e61a6c374');\n",
              "          const dataTable =\n",
              "            await google.colab.kernel.invokeFunction('convertToInteractive',\n",
              "                                                     [key], {});\n",
              "          if (!dataTable) return;\n",
              "\n",
              "          const docLinkHtml = 'Like what you see? Visit the ' +\n",
              "            '<a target=\"_blank\" href=https://colab.research.google.com/notebooks/data_table.ipynb>data table notebook</a>'\n",
              "            + ' to learn more about interactive tables.';\n",
              "          element.innerHTML = '';\n",
              "          dataTable['output_type'] = 'display_data';\n",
              "          await google.colab.output.renderOutput(dataTable, element);\n",
              "          const docLink = document.createElement('div');\n",
              "          docLink.innerHTML = docLinkHtml;\n",
              "          element.appendChild(docLink);\n",
              "        }\n",
              "      </script>\n",
              "    </div>\n",
              "  </div>\n",
              "  "
            ]
          },
          "metadata": {},
          "execution_count": 4
        }
      ],
      "source": [
        "df.head(5)"
      ],
      "id": "Eeyrt2jd0Fkb"
    },
    {
      "cell_type": "markdown",
      "metadata": {
        "id": "yNAzzTVuXG_E"
      },
      "source": [
        "Here are the total number of NA values in the data set."
      ],
      "id": "yNAzzTVuXG_E"
    },
    {
      "cell_type": "code",
      "execution_count": null,
      "metadata": {
        "id": "LMFlLkVxWDWr",
        "outputId": "41e0b6af-c011-48ae-dbaf-04694f37f404",
        "colab": {
          "base_uri": "https://localhost:8080/"
        }
      },
      "outputs": [
        {
          "output_type": "execute_result",
          "data": {
            "text/plain": [
              "21806"
            ]
          },
          "metadata": {},
          "execution_count": 5
        }
      ],
      "source": [
        "df.isna().sum().sum()"
      ],
      "id": "LMFlLkVxWDWr"
    },
    {
      "cell_type": "markdown",
      "metadata": {
        "id": "ELtyFPP4KHeS"
      },
      "source": [
        "The data seems to contain a lot of NA values so we may need to clean it depending on what it is."
      ],
      "id": "ELtyFPP4KHeS"
    },
    {
      "cell_type": "markdown",
      "metadata": {
        "id": "BmKOjvd3XIxO"
      },
      "source": [
        "Below is the number of columns with  NA values."
      ],
      "id": "BmKOjvd3XIxO"
    },
    {
      "cell_type": "code",
      "execution_count": null,
      "metadata": {
        "id": "fIk-D3VFUVEb",
        "outputId": "52923d79-a0c5-4fd0-e1ee-7fe164ed7a89",
        "colab": {
          "base_uri": "https://localhost:8080/"
        }
      },
      "outputs": [
        {
          "output_type": "execute_result",
          "data": {
            "text/plain": [
              "Name                    5702\n",
              "Date Of Birth           5399\n",
              "Outcome Zip Code        3184\n",
              "Location                3184\n",
              "Outcome Jurisdiction    3105\n",
              "Outcome Condition        471\n",
              "Outcome Subtype          441\n",
              "Outcome Type             142\n",
              "Outcome Date             136\n",
              "Size                      33\n",
              "Kennel Number              9\n",
              "dtype: int64"
            ]
          },
          "metadata": {},
          "execution_count": 6
        }
      ],
      "source": [
        "df.isna().sum()[df.isna().sum()>0].sort_values(ascending=False)"
      ],
      "id": "fIk-D3VFUVEb"
    },
    {
      "cell_type": "markdown",
      "metadata": {
        "id": "soJzkl2kKQFE"
      },
      "source": [
        "The Name column contains the most NA values. However, it is not used in our analysis, so it won't affect our result."
      ],
      "id": "soJzkl2kKQFE"
    },
    {
      "cell_type": "markdown",
      "metadata": {
        "id": "F0L7OsCXwpU_"
      },
      "source": [
        "Here is the basic statistics for numerical columns 'Day in Shelter', and 'Outcome Zip Code', and 'Count'.\n"
      ],
      "id": "F0L7OsCXwpU_"
    },
    {
      "cell_type": "code",
      "execution_count": null,
      "metadata": {
        "colab": {
          "base_uri": "https://localhost:8080/",
          "height": 300
        },
        "id": "6qKyO81DDrV7",
        "outputId": "8d3eba7c-4812-491d-b31e-1a0ed6fe8aa6"
      },
      "outputs": [
        {
          "output_type": "execute_result",
          "data": {
            "text/plain": [
              "       Days in Shelter  Outcome Zip Code     Count\n",
              "count         22108.00          18924.00  22108.00\n",
              "mean             17.52          95006.55      1.00\n",
              "std              34.42           3863.69      0.05\n",
              "min               0.00           1922.00      0.00\n",
              "25%               1.00          95401.00      1.00\n",
              "50%               8.00          95404.00      1.00\n",
              "75%              22.00          95436.00      1.00\n",
              "max            1239.00          99701.00      1.00"
            ],
            "text/html": [
              "\n",
              "  <div id=\"df-d292a84e-a657-48bc-9b56-80fb41893644\">\n",
              "    <div class=\"colab-df-container\">\n",
              "      <div>\n",
              "<style scoped>\n",
              "    .dataframe tbody tr th:only-of-type {\n",
              "        vertical-align: middle;\n",
              "    }\n",
              "\n",
              "    .dataframe tbody tr th {\n",
              "        vertical-align: top;\n",
              "    }\n",
              "\n",
              "    .dataframe thead th {\n",
              "        text-align: right;\n",
              "    }\n",
              "</style>\n",
              "<table border=\"1\" class=\"dataframe\">\n",
              "  <thead>\n",
              "    <tr style=\"text-align: right;\">\n",
              "      <th></th>\n",
              "      <th>Days in Shelter</th>\n",
              "      <th>Outcome Zip Code</th>\n",
              "      <th>Count</th>\n",
              "    </tr>\n",
              "  </thead>\n",
              "  <tbody>\n",
              "    <tr>\n",
              "      <th>count</th>\n",
              "      <td>22108.00</td>\n",
              "      <td>18924.00</td>\n",
              "      <td>22108.00</td>\n",
              "    </tr>\n",
              "    <tr>\n",
              "      <th>mean</th>\n",
              "      <td>17.52</td>\n",
              "      <td>95006.55</td>\n",
              "      <td>1.00</td>\n",
              "    </tr>\n",
              "    <tr>\n",
              "      <th>std</th>\n",
              "      <td>34.42</td>\n",
              "      <td>3863.69</td>\n",
              "      <td>0.05</td>\n",
              "    </tr>\n",
              "    <tr>\n",
              "      <th>min</th>\n",
              "      <td>0.00</td>\n",
              "      <td>1922.00</td>\n",
              "      <td>0.00</td>\n",
              "    </tr>\n",
              "    <tr>\n",
              "      <th>25%</th>\n",
              "      <td>1.00</td>\n",
              "      <td>95401.00</td>\n",
              "      <td>1.00</td>\n",
              "    </tr>\n",
              "    <tr>\n",
              "      <th>50%</th>\n",
              "      <td>8.00</td>\n",
              "      <td>95404.00</td>\n",
              "      <td>1.00</td>\n",
              "    </tr>\n",
              "    <tr>\n",
              "      <th>75%</th>\n",
              "      <td>22.00</td>\n",
              "      <td>95436.00</td>\n",
              "      <td>1.00</td>\n",
              "    </tr>\n",
              "    <tr>\n",
              "      <th>max</th>\n",
              "      <td>1239.00</td>\n",
              "      <td>99701.00</td>\n",
              "      <td>1.00</td>\n",
              "    </tr>\n",
              "  </tbody>\n",
              "</table>\n",
              "</div>\n",
              "      <button class=\"colab-df-convert\" onclick=\"convertToInteractive('df-d292a84e-a657-48bc-9b56-80fb41893644')\"\n",
              "              title=\"Convert this dataframe to an interactive table.\"\n",
              "              style=\"display:none;\">\n",
              "        \n",
              "  <svg xmlns=\"http://www.w3.org/2000/svg\" height=\"24px\"viewBox=\"0 0 24 24\"\n",
              "       width=\"24px\">\n",
              "    <path d=\"M0 0h24v24H0V0z\" fill=\"none\"/>\n",
              "    <path d=\"M18.56 5.44l.94 2.06.94-2.06 2.06-.94-2.06-.94-.94-2.06-.94 2.06-2.06.94zm-11 1L8.5 8.5l.94-2.06 2.06-.94-2.06-.94L8.5 2.5l-.94 2.06-2.06.94zm10 10l.94 2.06.94-2.06 2.06-.94-2.06-.94-.94-2.06-.94 2.06-2.06.94z\"/><path d=\"M17.41 7.96l-1.37-1.37c-.4-.4-.92-.59-1.43-.59-.52 0-1.04.2-1.43.59L10.3 9.45l-7.72 7.72c-.78.78-.78 2.05 0 2.83L4 21.41c.39.39.9.59 1.41.59.51 0 1.02-.2 1.41-.59l7.78-7.78 2.81-2.81c.8-.78.8-2.07 0-2.86zM5.41 20L4 18.59l7.72-7.72 1.47 1.35L5.41 20z\"/>\n",
              "  </svg>\n",
              "      </button>\n",
              "      \n",
              "  <style>\n",
              "    .colab-df-container {\n",
              "      display:flex;\n",
              "      flex-wrap:wrap;\n",
              "      gap: 12px;\n",
              "    }\n",
              "\n",
              "    .colab-df-convert {\n",
              "      background-color: #E8F0FE;\n",
              "      border: none;\n",
              "      border-radius: 50%;\n",
              "      cursor: pointer;\n",
              "      display: none;\n",
              "      fill: #1967D2;\n",
              "      height: 32px;\n",
              "      padding: 0 0 0 0;\n",
              "      width: 32px;\n",
              "    }\n",
              "\n",
              "    .colab-df-convert:hover {\n",
              "      background-color: #E2EBFA;\n",
              "      box-shadow: 0px 1px 2px rgba(60, 64, 67, 0.3), 0px 1px 3px 1px rgba(60, 64, 67, 0.15);\n",
              "      fill: #174EA6;\n",
              "    }\n",
              "\n",
              "    [theme=dark] .colab-df-convert {\n",
              "      background-color: #3B4455;\n",
              "      fill: #D2E3FC;\n",
              "    }\n",
              "\n",
              "    [theme=dark] .colab-df-convert:hover {\n",
              "      background-color: #434B5C;\n",
              "      box-shadow: 0px 1px 3px 1px rgba(0, 0, 0, 0.15);\n",
              "      filter: drop-shadow(0px 1px 2px rgba(0, 0, 0, 0.3));\n",
              "      fill: #FFFFFF;\n",
              "    }\n",
              "  </style>\n",
              "\n",
              "      <script>\n",
              "        const buttonEl =\n",
              "          document.querySelector('#df-d292a84e-a657-48bc-9b56-80fb41893644 button.colab-df-convert');\n",
              "        buttonEl.style.display =\n",
              "          google.colab.kernel.accessAllowed ? 'block' : 'none';\n",
              "\n",
              "        async function convertToInteractive(key) {\n",
              "          const element = document.querySelector('#df-d292a84e-a657-48bc-9b56-80fb41893644');\n",
              "          const dataTable =\n",
              "            await google.colab.kernel.invokeFunction('convertToInteractive',\n",
              "                                                     [key], {});\n",
              "          if (!dataTable) return;\n",
              "\n",
              "          const docLinkHtml = 'Like what you see? Visit the ' +\n",
              "            '<a target=\"_blank\" href=https://colab.research.google.com/notebooks/data_table.ipynb>data table notebook</a>'\n",
              "            + ' to learn more about interactive tables.';\n",
              "          element.innerHTML = '';\n",
              "          dataTable['output_type'] = 'display_data';\n",
              "          await google.colab.output.renderOutput(dataTable, element);\n",
              "          const docLink = document.createElement('div');\n",
              "          docLink.innerHTML = docLinkHtml;\n",
              "          element.appendChild(docLink);\n",
              "        }\n",
              "      </script>\n",
              "    </div>\n",
              "  </div>\n",
              "  "
            ]
          },
          "metadata": {},
          "execution_count": 7
        }
      ],
      "source": [
        "df.describe().round(2)"
      ],
      "id": "6qKyO81DDrV7"
    },
    {
      "cell_type": "markdown",
      "metadata": {
        "id": "TaCS-lS_KfOl"
      },
      "source": [
        "It appears that 'Days in Shelter' has many unique values; we may want to consider it as continuous. On the other hand, the 'Count' column has only 2 values; we may want to consider it as a categorical value."
      ],
      "id": "TaCS-lS_KfOl"
    },
    {
      "cell_type": "markdown",
      "metadata": {
        "id": "tNd1M7oy1qMl"
      },
      "source": [
        "We looked at the number of unique values per column."
      ],
      "id": "tNd1M7oy1qMl"
    },
    {
      "cell_type": "code",
      "execution_count": null,
      "metadata": {
        "colab": {
          "base_uri": "https://localhost:8080/"
        },
        "id": "0_BnbWsM1mwj",
        "outputId": "f271f16e-954c-476f-ba72-d8af1302cabe"
      },
      "outputs": [
        {
          "output_type": "execute_result",
          "data": {
            "text/plain": [
              "Days in Shelter      262\n",
              "Type                   3\n",
              "Breed                977\n",
              "Color                327\n",
              "Sex                    5\n",
              "Size                   7\n",
              "Outcome Type           9\n",
              "Outcome Subtype      227\n",
              "Intake Type            7\n",
              "Intake Subtype        29\n",
              "Intake Condition       5\n",
              "Outcome Condition      6\n",
              "dtype: int64"
            ]
          },
          "metadata": {},
          "execution_count": 8
        }
      ],
      "source": [
        "df[['Days in Shelter', 'Type','Breed','Color','Sex','Size','Outcome Type','Outcome Subtype','Intake Type','Intake Subtype','Intake Condition','Outcome Condition']].nunique()"
      ],
      "id": "0_BnbWsM1mwj"
    },
    {
      "cell_type": "markdown",
      "metadata": {
        "id": "IMvfqJSMPFh-"
      },
      "source": [
        "It appears that 'Days in Shelter' has many unique values because it's numeric, and sex column looks unsual having 5 different types. Despite 'Breed' and 'Color' having many unique values, they are categorical values."
      ],
      "id": "IMvfqJSMPFh-"
    },
    {
      "cell_type": "markdown",
      "metadata": {
        "id": "WZsKMPFOP8Of"
      },
      "source": [
        "Since the sex column has 5 different types, here's how many of each different type we have."
      ],
      "id": "WZsKMPFOP8Of"
    },
    {
      "cell_type": "code",
      "execution_count": null,
      "metadata": {
        "colab": {
          "base_uri": "https://localhost:8080/",
          "height": 357
        },
        "id": "IHNyqkVVz_Ew",
        "outputId": "2071ff98-24a2-4993-aa3d-35278f04482f"
      },
      "outputs": [
        {
          "output_type": "execute_result",
          "data": {
            "text/plain": [
              "Text(0, 0.5, 'percentage')"
            ]
          },
          "metadata": {},
          "execution_count": 9
        },
        {
          "output_type": "display_data",
          "data": {
            "text/plain": [
              "<Figure size 432x288 with 1 Axes>"
            ],
            "image/png": "[encoded data removed]"
          },
          "metadata": {
            "needs_background": "light"
          }
        }
      ],
      "source": [
        "df['Sex'].value_counts(normalize = True).plot.bar();\n",
        "plt.title('Sex of animals', fontsize = 17)\n",
        "plt.xlabel('sex', fontsize=13)\n",
        "plt.ylabel('percentage', fontsize=13)"
      ],
      "id": "IHNyqkVVz_Ew"
    },
    {
      "cell_type": "markdown",
      "metadata": {
        "id": "S_dGGdqxQFyt"
      },
      "source": [
        "The animal shelter categorized the sex column assuming animals have been spayed, neutered, and capable of reproduction. The unknown category contains animals whose gender was unable to be determined. We will combine neutered with male and spayed with female in our analysis below, as those factors are not needed for the analysis."
      ],
      "id": "S_dGGdqxQFyt"
    },
    {
      "cell_type": "markdown",
      "metadata": {
        "id": "qO_hqGSa2tL2"
      },
      "source": [
        "There are 3 main categories of animals in the data set: dogs, cats, and other."
      ],
      "id": "qO_hqGSa2tL2"
    },
    {
      "cell_type": "code",
      "execution_count": null,
      "metadata": {
        "colab": {
          "base_uri": "https://localhost:8080/",
          "height": 302
        },
        "id": "ry0H9wLb2ilP",
        "outputId": "86476556-1360-48cb-9fbc-549d16783c74"
      },
      "outputs": [
        {
          "output_type": "display_data",
          "data": {
            "text/plain": [
              "<Figure size 432x288 with 1 Axes>"
            ],
            "image/png": "[encoded data removed]"
          },
          "metadata": {
            "needs_background": "light"
          }
        }
      ],
      "source": [
        "df['Type'].value_counts().plot.bar()\n",
        "plt.title('Types of animals', fontsize=17)\n",
        "plt.xlabel('type',fontsize=13)\n",
        "plt.xticks(rotation = 0)\n",
        "plt.ylabel('frequency',fontsize=13);"
      ],
      "id": "ry0H9wLb2ilP"
    },
    {
      "cell_type": "markdown",
      "metadata": {
        "id": "rJ2w36hiL7Ta"
      },
      "source": [
        "It appears that our data primarily consists of dogs. For our report, we will be focusing exclusively on dogs and cats, as they form a large majority of the animals in the data set.\n"
      ],
      "id": "rJ2w36hiL7Ta"
    },
    {
      "cell_type": "markdown",
      "metadata": {
        "id": "dCVbJy2GTWPz"
      },
      "source": [
        "Here's a specific list of the intake types and intake subtypes that we will be using. We are only looking at types larger than 50."
      ],
      "id": "dCVbJy2GTWPz"
    },
    {
      "cell_type": "code",
      "execution_count": null,
      "metadata": {
        "colab": {
          "base_uri": "https://localhost:8080/"
        },
        "id": "wrvsWRjuvPF-",
        "outputId": "5e222401-9751-4434-cad5-9b93f7a883c8"
      },
      "outputs": [
        {
          "output_type": "execute_result",
          "data": {
            "text/plain": [
              "Intake Type      Intake Subtype  \n",
              "ADOPTION RETURN  OVER THE COUNTER     353\n",
              "STRAY            FIELD               8139\n",
              "                 OVER THE COUNTER    5412\n",
              "                 COMM CAT            1270\n",
              "                 PHONE                452\n",
              "                 VET_HOSP             400\n",
              "                 BORN_HERE            193\n",
              "                 PRIV_SHELT           184\n",
              "                 MUN_SHELT             67\n",
              "Name: Intake Subtype, dtype: int64"
            ]
          },
          "metadata": {},
          "execution_count": 11
        }
      ],
      "source": [
        "stray_or_return = df[(df['Intake Type'] == 'STRAY') | (df['Intake Type'] == 'ADOPTION RETURN')]\n",
        "stray_or_return.groupby('Intake Type')['Intake Subtype'].value_counts().loc[lambda x : x>50]"
      ],
      "id": "wrvsWRjuvPF-"
    },
    {
      "cell_type": "markdown",
      "metadata": {
        "id": "Kh1MmC3FUJ9i"
      },
      "source": [
        "There's only one intake subtype for adoption return, which is over the counter."
      ],
      "id": "Kh1MmC3FUJ9i"
    },
    {
      "cell_type": "markdown",
      "metadata": {
        "id": "BRLMcA6pwsWK"
      },
      "source": [
        "We are looking at specific subtypes for the outcome types above 50 as well.\n",
        "\n"
      ],
      "id": "BRLMcA6pwsWK"
    },
    {
      "cell_type": "code",
      "execution_count": null,
      "metadata": {
        "colab": {
          "base_uri": "https://localhost:8080/"
        },
        "id": "m_JFvOua3CVi",
        "outputId": "192049b7-67de-4ecb-a40b-f3cf6c66dc25"
      },
      "outputs": [
        {
          "output_type": "execute_result",
          "data": {
            "text/plain": [
              "Outcome Type     Outcome Subtype        \n",
              "ADOPTION         WALKIN                     3234\n",
              "                 SCAS WEB                   1133\n",
              "                 INTERNET                    848\n",
              "                 WESTFARM                    422\n",
              "                 REFERRAL                    278\n",
              "                 SPEC EVENT                  186\n",
              "                 REFERRAL-O                   98\n",
              "                 49ER PET                     83\n",
              "                 FINDER                       79\n",
              "                 FB SCAS                      70\n",
              "                 VOLUNTEER                    66\n",
              "                 REFERRAL-F                   57\n",
              "                 MOB EVENT                    56\n",
              "RETURN TO OWNER  OVER THE COUNTER_WEB       1523\n",
              "                 OVER THE COUNTER_PRVS      1299\n",
              "                 OVER THE COUNTER_CALL       761\n",
              "                 OVER THE COUNTER_MCHIP      758\n",
              "                 FLD_MCHIP                   526\n",
              "                 OVER THE COUNTER_WALKIN     472\n",
              "                 COMMCAT                     400\n",
              "                 RETURN TO OWNER             318\n",
              "                 OVER THE COUNTER_NOTICE     277\n",
              "                 FLD_PRVS                    233\n",
              "                 OVER THE COUNTER_ARREST     215\n",
              "                 FLD_IDTAG                   167\n",
              "                 FLD_LIC                     115\n",
              "                 MEDICAL                      96\n",
              "                 FLD_NBR                      68\n",
              "                 OVER THE COUNTER_LETTER      65\n",
              "Name: Outcome Subtype, dtype: int64"
            ]
          },
          "metadata": {},
          "execution_count": 12
        }
      ],
      "source": [
        "adopt_or_return = df[(df['Outcome Type'] == 'ADOPTION') | (df['Outcome Type'] == 'RETURN TO OWNER')]\n",
        "adopt_or_return.groupby('Outcome Type')['Outcome Subtype'].value_counts().loc[lambda x : x>50]"
      ],
      "id": "m_JFvOua3CVi"
    },
    {
      "cell_type": "markdown",
      "metadata": {
        "id": "hHMD2bSuUIpY"
      },
      "source": [
        "There are many ways that animals are being adopted and returned."
      ],
      "id": "hHMD2bSuUIpY"
    },
    {
      "cell_type": "markdown",
      "metadata": {
        "id": "d1283d9a"
      },
      "source": [
        "## Data cleaning and preprocessing"
      ],
      "id": "d1283d9a"
    },
    {
      "cell_type": "markdown",
      "metadata": {
        "id": "eD-uTj1UzAkc"
      },
      "source": [
        "We will be droping the columns that we are not going to use for this report."
      ],
      "id": "eD-uTj1UzAkc"
    },
    {
      "cell_type": "code",
      "execution_count": null,
      "metadata": {
        "id": "Isxnp5yizEPW"
      },
      "outputs": [],
      "source": [
        "unnecessaryC = ['Name', 'Impound Number', 'Kennel Number', 'Intake Jurisdiction', 'Outcome Jurisdiction', 'Outcome Zip Code', 'Location', 'Count']\n",
        "df.drop(columns = unnecessaryC, inplace=True)"
      ],
      "id": "Isxnp5yizEPW"
    },
    {
      "cell_type": "markdown",
      "metadata": {
        "id": "y5L0D6m6lWAW"
      },
      "source": [
        "This is how many columns have the value \"0\" present in their data."
      ],
      "id": "y5L0D6m6lWAW"
    },
    {
      "cell_type": "code",
      "execution_count": null,
      "metadata": {
        "colab": {
          "base_uri": "https://localhost:8080/"
        },
        "id": "vCryTh9Pjt_W",
        "outputId": "e87f7686-dad4-4df2-cd95-353deb1642ab"
      },
      "outputs": [
        {
          "output_type": "execute_result",
          "data": {
            "text/plain": [
              "Days in Shelter    4143\n",
              "Type                  0\n",
              "Breed                 0\n",
              "Color                 0\n",
              "Sex                   0\n",
              "dtype: int64"
            ]
          },
          "metadata": {},
          "execution_count": 14
        }
      ],
      "source": [
        "(df == 0).sum().sort_values(ascending = False).head(5)"
      ],
      "id": "vCryTh9Pjt_W"
    },
    {
      "cell_type": "markdown",
      "metadata": {
        "id": "KfaiCdFeV0Xb"
      },
      "source": [
        "It seems that only column that has 0 value is 'Days in Shelter'. This can be explained by animals leaving the shelter less than a day."
      ],
      "id": "KfaiCdFeV0Xb"
    },
    {
      "cell_type": "markdown",
      "metadata": {
        "id": "CXtwr6_tyPj8"
      },
      "source": [
        "First, we will clean our data by dropping rows with NA values."
      ],
      "id": "CXtwr6_tyPj8"
    },
    {
      "cell_type": "code",
      "execution_count": null,
      "metadata": {
        "id": "VtZtzyJpozpD"
      },
      "outputs": [],
      "source": [
        "df.dropna(axis=0, inplace = True)"
      ],
      "id": "VtZtzyJpozpD"
    },
    {
      "cell_type": "markdown",
      "metadata": {
        "id": "cPHVJzuLpj7A"
      },
      "source": [
        "Next, we will also drop values that we cannot interpret such as unknown or other."
      ],
      "id": "cPHVJzuLpj7A"
    },
    {
      "cell_type": "code",
      "execution_count": null,
      "metadata": {
        "id": "WXr_Ff_g-LEZ"
      },
      "outputs": [],
      "source": [
        "df = df[df['Sex']!='Unknown']\n",
        "df = df[df['Type']!='OTHER']"
      ],
      "id": "WXr_Ff_g-LEZ"
    },
    {
      "cell_type": "markdown",
      "metadata": {
        "id": "-lockjfq0Q_U"
      },
      "source": [
        "Since we are going to use dates, we will change the date columns into pandas date time index objects as those are easier to work with."
      ],
      "id": "-lockjfq0Q_U"
    },
    {
      "cell_type": "code",
      "execution_count": null,
      "metadata": {
        "id": "pd-rQzUFFsWc"
      },
      "outputs": [],
      "source": [
        "df['Intake Date'] = pd.to_datetime(df['Intake Date'])\n",
        "df['Outcome Date'] = pd.to_datetime(df['Outcome Date'])\n",
        "df['Date Of Birth'] = pd.to_datetime(df['Date Of Birth'])"
      ],
      "id": "pd-rQzUFFsWc"
    },
    {
      "cell_type": "markdown",
      "metadata": {
        "id": "BDvr9P6fSfE0"
      },
      "source": [
        "As explained above in the introduction, we are combining neutered into male and spayed into female."
      ],
      "id": "BDvr9P6fSfE0"
    },
    {
      "cell_type": "code",
      "execution_count": null,
      "metadata": {
        "id": "S1VOpdnUSeVm"
      },
      "outputs": [],
      "source": [
        "df['Sex'].replace('Neutered', 'Male', inplace = True)\n",
        "df['Sex'].replace('Spayed', 'Female', inplace=True)"
      ],
      "id": "S1VOpdnUSeVm"
    },
    {
      "cell_type": "markdown",
      "metadata": {
        "id": "5a3a9d08"
      },
      "source": [
        "## Data exploration and visualization"
      ],
      "id": "5a3a9d08"
    },
    {
      "cell_type": "markdown",
      "metadata": {
        "id": "2KkBPQgIvJMT"
      },
      "source": [
        "###What characteristics of dogs and cats are the most likely to be adopted?"
      ],
      "id": "2KkBPQgIvJMT"
    },
    {
      "cell_type": "markdown",
      "metadata": {
        "id": "E1wXeCrIvq4j"
      },
      "source": [
        "We will create initial dataframes"
      ],
      "id": "E1wXeCrIvq4j"
    },
    {
      "cell_type": "code",
      "execution_count": null,
      "metadata": {
        "id": "GcYE-3HlvEzI"
      },
      "outputs": [],
      "source": [
        "adopted_pets = df[df['Outcome Type'] == 'ADOPTION']\n",
        "adopted_dogs = adopted_pets[adopted_pets['Type'] == 'DOG']\n",
        "adopted_cats = adopted_pets[adopted_pets['Type'] == 'CAT']"
      ],
      "id": "GcYE-3HlvEzI"
    },
    {
      "cell_type": "markdown",
      "metadata": {
        "id": "VCM2XQ1YQh0G"
      },
      "source": [
        "What sex of the dogs and cats are adopted more?"
      ],
      "id": "VCM2XQ1YQh0G"
    },
    {
      "cell_type": "code",
      "execution_count": null,
      "metadata": {
        "colab": {
          "base_uri": "https://localhost:8080/",
          "height": 302
        },
        "id": "D6N85GdgRppw",
        "outputId": "5dda0c6f-6d3c-4c81-dd20-0ce410618631"
      },
      "outputs": [
        {
          "output_type": "display_data",
          "data": {
            "text/plain": [
              "<Figure size 432x288 with 1 Axes>"
            ],
            "image/png": "[encoded data removed]"
          },
          "metadata": {
            "needs_background": "light"
          }
        }
      ],
      "source": [
        "adopted_female_pets = adopted_pets[['Type','Sex']][(adopted_pets['Sex'] == 'Female')]\n",
        "pd.crosstab(adopted_female_pets['Type'], adopted_female_pets['Sex'], normalize=True).plot.bar(legend=False)\n",
        "plt.title('Adopted female cats and dogs', fontsize=17)\n",
        "plt.xlabel('animal type', fontsize = 13)\n",
        "plt.ylabel('proportion of female', fontsize = 13)\n",
        "plt.xticks(rotation = 0);"
      ],
      "id": "D6N85GdgRppw"
    },
    {
      "cell_type": "markdown",
      "metadata": {
        "id": "6ulSwoakFUp_"
      },
      "source": [
        "There doesn't seem to be a significant different in the ratio between male and female for both cats and dogs. Therefore, it appears that the sex isn't a determinant factor in an adoption choice."
      ],
      "id": "6ulSwoakFUp_"
    },
    {
      "cell_type": "markdown",
      "metadata": {
        "id": "hGHUP9bV7SaD"
      },
      "source": [
        "How long do cats and dogs stay in the shelter before they are adopted?"
      ],
      "id": "hGHUP9bV7SaD"
    },
    {
      "cell_type": "code",
      "execution_count": null,
      "metadata": {
        "colab": {
          "base_uri": "https://localhost:8080/",
          "height": 302
        },
        "id": "9YuNhCUZ6ypT",
        "outputId": "a1067923-b382-4e97-9201-d4be473217db"
      },
      "outputs": [
        {
          "output_type": "display_data",
          "data": {
            "text/plain": [
              "<Figure size 432x288 with 1 Axes>"
            ],
            "image/png": "[encoded data removed]"
          },
          "metadata": {
            "needs_background": "light"
          }
        }
      ],
      "source": [
        "sns.boxplot(x='Type', y='Days in Shelter', data=df)\n",
        "plt.ylim(0,100)\n",
        "plt.title('Who spends the most time in shelter', fontsize=17)\n",
        "plt.xlabel('animal type', fontsize = 13)\n",
        "plt.ylabel('days in shelter', fontsize = 13);"
      ],
      "id": "9YuNhCUZ6ypT"
    },
    {
      "cell_type": "markdown",
      "metadata": {
        "id": "cayXHEIeR5P3"
      },
      "source": [
        "The median amount of time a dog spends in the Sonoma Animal Shelter is about 6 days, where as the median number of days a cat spends is 19. Cats seem to stay in the shelter longer than dogs."
      ],
      "id": "cayXHEIeR5P3"
    },
    {
      "cell_type": "markdown",
      "metadata": {
        "id": "ow_OX3wpTmEE"
      },
      "source": [
        "What breeds of dogs are adopted more?"
      ],
      "id": "ow_OX3wpTmEE"
    },
    {
      "cell_type": "code",
      "execution_count": null,
      "metadata": {
        "colab": {
          "base_uri": "https://localhost:8080/",
          "height": 302
        },
        "id": "4cQ_HAYuTg8u",
        "outputId": "1596e67a-07d4-4b7b-8d0c-334e4406f7b1"
      },
      "outputs": [
        {
          "output_type": "display_data",
          "data": {
            "text/plain": [
              "<Figure size 432x288 with 1 Axes>"
            ],
            "image/png": "[encoded data removed]"
          },
          "metadata": {
            "needs_background": "light"
          }
        }
      ],
      "source": [
        "top10_d = adopted_dogs['Breed'].value_counts().head(10).index\n",
        "adopted_dog_breeds_top10 = adopted_dogs[adopted_dogs['Breed'].isin(top10_d)]\n",
        "adopted_dog_breeds_top10['Breed'].value_counts().plot.barh()\n",
        "plt.title('Top 10 breeds of adopted dogs', fontsize=17)\n",
        "plt.xlabel('number of adoptions', fontsize=13)\n",
        "plt.ylabel('breeds', fontsize=13)\n",
        "plt.xticks(rotation = 0);"
      ],
      "id": "4cQ_HAYuTg8u"
    },
    {
      "cell_type": "markdown",
      "metadata": {
        "id": "D4n77nl3sfFY"
      },
      "source": [
        "The trend appears to be that the most common adopted dogs are Chihuahuas and Pit bulls. Overall, it seems more likely smaller dog breeds are more likely adopted, compared to breeds such as Huskies, Labradors, and German Shepherds."
      ],
      "id": "D4n77nl3sfFY"
    },
    {
      "cell_type": "markdown",
      "metadata": {
        "id": "Bz9eeReuFYG3"
      },
      "source": [
        "What breeds of cats are adopted more?"
      ],
      "id": "Bz9eeReuFYG3"
    },
    {
      "cell_type": "code",
      "execution_count": null,
      "metadata": {
        "colab": {
          "base_uri": "https://localhost:8080/",
          "height": 302
        },
        "id": "FEBa1UEPGLuf",
        "outputId": "2c258517-9365-472a-ccf0-83fb018e13fe"
      },
      "outputs": [
        {
          "output_type": "display_data",
          "data": {
            "text/plain": [
              "<Figure size 432x288 with 1 Axes>"
            ],
            "image/png": "[encoded data removed]"
          },
          "metadata": {
            "needs_background": "light"
          }
        }
      ],
      "source": [
        "top10_c = adopted_cats['Breed'].value_counts().head(10).index\n",
        "adopted_cat_breeds_top10 = adopted_cats[adopted_cats['Breed'].isin(top10_c)]\n",
        "adopted_cat_breeds_top10['Breed'].value_counts().apply(np.log10).plot.barh()\n",
        "plt.title('Top 10 breeds of adopted cats', fontsize=17)\n",
        "plt.xlabel('number of adoptions(log10)', fontsize=13)\n",
        "plt.ylabel('breeds', fontsize=13)\n",
        "plt.xticks(rotation = 0);\n"
      ],
      "id": "FEBa1UEPGLuf"
    },
    {
      "cell_type": "markdown",
      "metadata": {
        "id": "LdASM1n71qPk"
      },
      "source": [
        "Unlike dog breeds, cat breeds have much less to differentiate themselves. Typically, the only difference in cat breeds are the color of hair and the length. Despite the lack of physical variation in species, domestic Shorthair cats are almost exclusively chosen to be adopted."
      ],
      "id": "LdASM1n71qPk"
    },
    {
      "cell_type": "markdown",
      "metadata": {
        "id": "8oIXw81KXG02"
      },
      "source": [
        "Does the age of the dog affect the adoption rate?\n",
        "\n",
        "need to clean up the unknown\n",
        "or just plot things above 0"
      ],
      "id": "8oIXw81KXG02"
    },
    {
      "cell_type": "code",
      "execution_count": null,
      "metadata": {
        "colab": {
          "base_uri": "https://localhost:8080/",
          "height": 408
        },
        "id": "9IfS_fZn1px9",
        "outputId": "6c82086a-2fc2-44d1-81e8-18e0094d97cb"
      },
      "outputs": [
        {
          "output_type": "stream",
          "name": "stderr",
          "text": [
            "/usr/local/lib/python3.7/dist-packages/ipykernel_launcher.py:7: SettingWithCopyWarning: \n",
            "A value is trying to be set on a copy of a slice from a DataFrame.\n",
            "Try using .loc[row_indexer,col_indexer] = value instead\n",
            "\n",
            "See the caveats in the documentation: https://pandas.pydata.org/pandas-docs/stable/user_guide/indexing.html#returning-a-view-versus-a-copy\n",
            "  import sys\n"
          ]
        },
        {
          "output_type": "display_data",
          "data": {
            "text/plain": [
              "<Figure size 432x288 with 1 Axes>"
            ],
            "image/png": "[encoded data removed]"
          },
          "metadata": {
            "needs_background": "light"
          }
        }
      ],
      "source": [
        "def calculateAge(birthDate, intakeDate):\n",
        "    if(intakeDate.year == birthDate.year):\n",
        "      age_in_months = intakeDate.month\n",
        "    else:\n",
        "      age_in_months = (birthDate.year - intakeDate.year)*12 + intakeDate.month\n",
        "    return age_in_months\n",
        "adopted_pets['Ages_in_months'] = adopted_pets.apply(lambda x: calculateAge(x['Intake Date'], x['Date Of Birth']), axis=1)\n",
        "sns.violinplot(x='Type', y='Ages_in_months', hue='Sex', split=True, bw=0.1, data=adopted_pets)\n",
        "warnings.filterwarnings('ignore')\n",
        "plt.title('Ages of adopted dogs and cats', fontsize=17)\n",
        "plt.xlabel('type', fontsize=13)\n",
        "plt.xticks(rotation = 0)\n",
        "plt.ylabel('age in months',fontsize=13);"
      ],
      "id": "9IfS_fZn1px9"
    },
    {
      "cell_type": "markdown",
      "metadata": {
        "id": "qAYuudQ0shoS"
      },
      "source": [
        "Interpretation"
      ],
      "id": "qAYuudQ0shoS"
    },
    {
      "cell_type": "markdown",
      "metadata": {
        "id": "AKNBfoa-e5-o"
      },
      "source": [
        "Which colors of dogs are adopted the most"
      ],
      "id": "AKNBfoa-e5-o"
    },
    {
      "cell_type": "code",
      "execution_count": null,
      "metadata": {
        "colab": {
          "base_uri": "https://localhost:8080/",
          "height": 300
        },
        "id": "Pdpjx62HsyLq",
        "outputId": "fff29934-9645-4868-9d54-3399a48a339c"
      },
      "outputs": [
        {
          "output_type": "display_data",
          "data": {
            "text/plain": [
              "<Figure size 432x288 with 1 Axes>"
            ],
            "image/png": "[encoded data removed]"
          },
          "metadata": {
            "needs_background": "light"
          }
        }
      ],
      "source": [
        "top5_color= df['Color'].value_counts()[0:5].index\n",
        "adopted_dogs_colort5 = adopted_dogs[adopted_dogs['Color'].isin(top5_color)]\n",
        "top5_d = adopted_dogs_colort5['Breed'].value_counts().head(5).index\n",
        "pd.crosstab(adopted_dogs_colort5['Breed'][adopted_dogs_colort5['Breed'].isin(top5_d)],adopted_dogs_colort5['Color'], normalize = True ).plot.barh()\n",
        "plt.title('Color of dogs that are adopted the most according to the breed', fontsize = 15)\n",
        "plt.xlabel('fraction of adoption according to the color ', fontsize = 13)\n",
        "plt.ylabel('breeds', fontsize=13)\n",
        "plt.legend(loc ='lower right');"
      ],
      "id": "Pdpjx62HsyLq"
    },
    {
      "cell_type": "markdown",
      "metadata": {
        "id": "prr7h8ArwOqH"
      },
      "source": [
        "This plot tells which colors of dogs are preferred by the people while adopting the dogs according to their breed. Here we can see the adoption rate of Germ Shephered is high whose color of black/tan"
      ],
      "id": "prr7h8ArwOqH"
    },
    {
      "cell_type": "markdown",
      "metadata": {
        "id": "WNZSoOryfREM"
      },
      "source": [
        "What colors of cats are adopted the most"
      ],
      "id": "WNZSoOryfREM"
    },
    {
      "cell_type": "code",
      "execution_count": null,
      "metadata": {
        "colab": {
          "base_uri": "https://localhost:8080/",
          "height": 302
        },
        "id": "gzKNmmNqfB2F",
        "outputId": "6a38dc72-582f-4914-83d0-17ea537e33b8"
      },
      "outputs": [
        {
          "output_type": "display_data",
          "data": {
            "text/plain": [
              "<Figure size 432x288 with 1 Axes>"
            ],
            "image/png": "[encoded data removed]"
          },
          "metadata": {
            "needs_background": "light"
          }
        }
      ],
      "source": [
        "top5_color= df['Color'].value_counts()[0:5].index\n",
        "adopted_cats_colort5 = adopted_cats[adopted_cats['Color'].isin(top5_color)]\n",
        "top5_c = adopted_cats_colort5['Breed'].value_counts().head(5).index\n",
        "pd.crosstab(adopted_cats_colort5['Breed'][adopted_cats_colort5['Breed'].isin(top5_c)],adopted_cats_colort5['Color'], normalize = True ).plot.barh()\n",
        "plt.title('Color of cats that are adopted the most according to the breed', fontsize = 17)\n",
        "plt.xlabel('fraction of adoption according to the color ', fontsize = 13)\n",
        "plt.ylabel('Breeds', fontsize=13);\n"
      ],
      "id": "gzKNmmNqfB2F"
    },
    {
      "cell_type": "markdown",
      "metadata": {
        "id": "-Pc_iOWcx5Jz"
      },
      "source": [
        "This plot tells which colors of cats are preferred by the people while adopting the cats according to their breed. Here we can see the adoption rate of domestic short hair (SH) is high whose color is Brown Tabby"
      ],
      "id": "-Pc_iOWcx5Jz"
    },
    {
      "cell_type": "markdown",
      "metadata": {
        "id": "ySUKEaDNZJ7B"
      },
      "source": [
        "What size of pets are adopted more?"
      ],
      "id": "ySUKEaDNZJ7B"
    },
    {
      "cell_type": "code",
      "execution_count": null,
      "metadata": {
        "id": "yt4JKxHMbLlA",
        "outputId": "71cc5746-456d-46e8-8414-43b73825e46b",
        "colab": {
          "base_uri": "https://localhost:8080/",
          "height": 302
        }
      },
      "outputs": [
        {
          "output_type": "display_data",
          "data": {
            "text/plain": [
              "<Figure size 432x288 with 1 Axes>"
            ],
            "image/png": "[encoded data removed]"
          },
          "metadata": {
            "needs_background": "light"
          }
        }
      ],
      "source": [
        "sns.countplot(x=\"Size\", hue=\"Type\", data=adopted_pets);\n",
        "plt.legend(loc ='upper right')\n",
        "plt.title('Adoption of cats and dogs according to the size', fontsize = 17)\n",
        "plt.xlabel('size', fontsize = 13)\n",
        "plt.ylabel('count', fontsize=13);\n"
      ],
      "id": "yt4JKxHMbLlA"
    },
    {
      "cell_type": "markdown",
      "metadata": {
        "id": "8w_qo9p4HFW2"
      },
      "source": [
        "This plot gives us the over all view of what size of cats and dogs are adopted the most acoording to their size"
      ],
      "id": "8w_qo9p4HFW2"
    },
    {
      "cell_type": "markdown",
      "metadata": {
        "id": "_ySinQ8ZxAyH"
      },
      "source": [
        "what size of dogs are adopted the most"
      ],
      "id": "_ySinQ8ZxAyH"
    },
    {
      "cell_type": "code",
      "execution_count": null,
      "metadata": {
        "id": "epsSToXlw5kV",
        "outputId": "36172672-2399-4718-a231-018ac8b4588c",
        "colab": {
          "base_uri": "https://localhost:8080/",
          "height": 302
        }
      },
      "outputs": [
        {
          "output_type": "display_data",
          "data": {
            "text/plain": [
              "<Figure size 432x288 with 1 Axes>"
            ],
            "image/png": "[encoded data removed]"
          },
          "metadata": {
            "needs_background": "light"
          }
        }
      ],
      "source": [
        "sns.countplot(x=\"Size\", data=adopted_dogs)\n",
        "plt.title('what size of dogs were adopted the most', fontSize=17)\n",
        "plt.xlabel('size', fontsize = 13)\n",
        "plt.ylabel('count', fontsize=13);"
      ],
      "id": "epsSToXlw5kV"
    },
    {
      "cell_type": "markdown",
      "metadata": {
        "id": "W4GmSf5jHc9w"
      },
      "source": [
        "There is quite a bit of variety when it comes to the size of adopted dogs. Unlike breeds, while smaller dogs are still the most popular selection, puppies are still less popular than keeping larger dogs."
      ],
      "id": "W4GmSf5jHc9w"
    },
    {
      "cell_type": "markdown",
      "metadata": {
        "id": "sH-Up4ZHxKU_"
      },
      "source": [
        "what size of cats are adopted the most"
      ],
      "id": "sH-Up4ZHxKU_"
    },
    {
      "cell_type": "code",
      "execution_count": null,
      "metadata": {
        "id": "8CvUaROvxGaP",
        "outputId": "f13ca1f9-5d0a-4d24-b85f-4bb7d43cbd86",
        "colab": {
          "base_uri": "https://localhost:8080/",
          "height": 302
        }
      },
      "outputs": [
        {
          "output_type": "display_data",
          "data": {
            "text/plain": [
              "<Figure size 432x288 with 1 Axes>"
            ],
            "image/png": "[encoded data removed]"
          },
          "metadata": {
            "needs_background": "light"
          }
        }
      ],
      "source": [
        "sns.countplot(x=\"Size\", data=adopted_cats)\n",
        "plt.title('what size of cats were adopted the most')\n",
        "plt.title('what size of cats were adopted the most', fontSize=17)\n",
        "plt.xlabel('size', fontsize = 13)\n",
        "plt.ylabel('count', fontsize=13);"
      ],
      "id": "8CvUaROvxGaP"
    },
    {
      "cell_type": "markdown",
      "metadata": {
        "id": "VZAi59ROIDsL"
      },
      "source": [
        "Unlike dogs, the size of adopted cats is much more homogenous. Cats in general have less variety in size comapared to dogs, and yet people seem to only want to adopt cats when they are smaller and younger. Kittens exclusively seem to be the most popular selection among cats."
      ],
      "id": "VZAi59ROIDsL"
    },
    {
      "cell_type": "markdown",
      "metadata": {
        "id": "zMpoCpTwvPBC"
      },
      "source": [
        "###How do the pets get returned to the owner?"
      ],
      "id": "zMpoCpTwvPBC"
    },
    {
      "cell_type": "code",
      "execution_count": null,
      "metadata": {
        "id": "x6cBaNG2vKOU"
      },
      "outputs": [],
      "source": [
        "lost_pets_returned = df[(df['Intake Type'] == 'STRAY')&(df['Outcome Type'] == 'RETURN TO OWNER')]\n",
        "lost_dogs = lost_pets_returned[lost_pets_returned['Type'] == 'DOG']\n",
        "lost_cats = lost_pets_returned[lost_pets_returned['Type'] == 'CAT']"
      ],
      "id": "x6cBaNG2vKOU"
    },
    {
      "cell_type": "markdown",
      "metadata": {
        "id": "JZZtKTzB5En6"
      },
      "source": [
        "How often are the pet getting lost multiple times?"
      ],
      "id": "JZZtKTzB5En6"
    },
    {
      "cell_type": "code",
      "execution_count": null,
      "metadata": {
        "id": "nBAbZW434-sd",
        "outputId": "5cb84fef-3e98-42d2-ebfb-c6946cc54fd5",
        "colab": {
          "base_uri": "https://localhost:8080/",
          "height": 302
        }
      },
      "outputs": [
        {
          "output_type": "display_data",
          "data": {
            "text/plain": [
              "<Figure size 432x288 with 1 Axes>"
            ],
            "image/png": "[encoded data removed]"
          },
          "metadata": {
            "needs_background": "light"
          }
        }
      ],
      "source": [
        "lost_pets_returned.groupby('Type')['Animal ID'].value_counts().loc[lambda x : x>2].plot.density()\n",
        "plt.title('Density plot of how many times a pet gets lost', fontsize = 17)\n",
        "plt.xlabel('times lost', fontsize = 13)\n",
        "plt.ylabel('density', fontsize=13);"
      ],
      "id": "nBAbZW434-sd"
    },
    {
      "cell_type": "markdown",
      "metadata": {
        "id": "eO-q_6ZijIsQ"
      },
      "source": [
        "The average amount of times a pet gets lost and found by the Sonoma Animal Shelter is about 3 times."
      ],
      "id": "eO-q_6ZijIsQ"
    },
    {
      "cell_type": "markdown",
      "metadata": {
        "id": "1RXqncBZcv6f"
      },
      "source": [
        "Health State. The state of a lost pet can be indicitive of the pet's care. Is there a trend of healthier animals found by the shelter being lost pets? If the animal is found unhealthy or not taken care of, is the owner taking proper care?"
      ],
      "id": "1RXqncBZcv6f"
    },
    {
      "cell_type": "code",
      "execution_count": null,
      "metadata": {
        "id": "iH2CKs2Tbi0Q",
        "outputId": "905ba0f5-6f5c-4983-b8ce-683e548e4466",
        "colab": {
          "base_uri": "https://localhost:8080/",
          "height": 302
        }
      },
      "outputs": [
        {
          "output_type": "display_data",
          "data": {
            "text/plain": [
              "<Figure size 432x288 with 1 Axes>"
            ],
            "image/png": "[encoded data removed]"
          },
          "metadata": {
            "needs_background": "light"
          }
        }
      ],
      "source": [
        "df['Outcome Condition'][(df['Intake Condition']!=\"HEALTHY\")&(df['Outcome Type']==\"RETURN TO OWNER\")&(df['Type']==\"DOG\")].value_counts(normalize=True,).sort_values(ascending=False).sort_values().plot.barh();\n",
        "plt.title('Intake health status of dogs vs when returned to the owner', fontsize=17)\n",
        "plt.xlabel('percentages', fontsize=13)\n",
        "plt.ylabel('health condition', fontsize=13);"
      ],
      "id": "iH2CKs2Tbi0Q"
    },
    {
      "cell_type": "markdown",
      "metadata": {
        "id": "rvfXM1x5NrYM"
      },
      "source": [
        "This graph tells us health condition of dogs that were not healthy when they came into the shelter and were returned to the owner.  "
      ],
      "id": "rvfXM1x5NrYM"
    },
    {
      "cell_type": "code",
      "execution_count": null,
      "metadata": {
        "id": "VQij5T0uNmPj",
        "outputId": "66000d42-1437-47de-d969-6db8d1abf5c1",
        "colab": {
          "base_uri": "https://localhost:8080/",
          "height": 302
        }
      },
      "outputs": [
        {
          "output_type": "display_data",
          "data": {
            "text/plain": [
              "<Figure size 432x288 with 1 Axes>"
            ],
            "image/png": "[encoded data removed]"
          },
          "metadata": {
            "needs_background": "light"
          }
        }
      ],
      "source": [
        "df['Outcome Condition'][(df['Intake Condition']!=\"HEALTHY\")&(df['Outcome Type']==\"RETURN TO OWNER\")&(df['Type']==\"CAT\")].value_counts(normalize=True,).sort_values(ascending=False).sort_values().plot.barh();\n",
        "plt.title('Intake health status of cats vs when returned to the owner ',fontsize=17)\n",
        "plt.xlabel('percentages',fontsize=13)\n",
        "plt.ylabel('health condition',fontsize=13);\n"
      ],
      "id": "VQij5T0uNmPj"
    },
    {
      "cell_type": "markdown",
      "metadata": {
        "id": "cWOyc2_mOBdl"
      },
      "source": [
        "This graph tells us health condition of cats that were not healthy when they came into the shelter and were returned to the owner.   "
      ],
      "id": "cWOyc2_mOBdl"
    },
    {
      "cell_type": "markdown",
      "metadata": {
        "id": "QUk4pjujcyGT"
      },
      "source": [
        "subtypes, ex over the web. Knowing which way people are picking up their lost pet can be important for both the shelter and the pet owners."
      ],
      "id": "QUk4pjujcyGT"
    },
    {
      "cell_type": "code",
      "execution_count": null,
      "metadata": {
        "id": "3ecpzZOaduP0",
        "outputId": "fad38621-21d5-480c-df43-e02b3b29c3c6",
        "colab": {
          "base_uri": "https://localhost:8080/",
          "height": 302
        }
      },
      "outputs": [
        {
          "output_type": "display_data",
          "data": {
            "text/plain": [
              "<Figure size 432x288 with 1 Axes>"
            ],
            "image/png": "[encoded data removed]"
          },
          "metadata": {
            "needs_background": "light"
          }
        }
      ],
      "source": [
        "returnOwner = df[df['Outcome Type'] == 'RETURN TO OWNER']\n",
        "\n",
        "subtype10= returnOwner['Outcome Subtype'].value_counts()[0:10]\n",
        "plt.title('Top 10 Most Common Methods of Returning to Owner', fontsize=17)\n",
        "plt.xlabel('count',fontsize=13)\n",
        "plt.ylabel('retrun type',fontsize=13)\n",
        "subtype10.plot.barh();"
      ],
      "id": "3ecpzZOaduP0"
    },
    {
      "cell_type": "markdown",
      "metadata": {
        "id": "r96rltbDc2Qd"
      },
      "source": [
        "Average days until the pet is picked up by thier owner? Ex. The average time someone picks up their pet is 18 days, this can help the shelter have a better idea whih are strays, and which are pets."
      ],
      "id": "r96rltbDc2Qd"
    },
    {
      "cell_type": "code",
      "execution_count": null,
      "metadata": {
        "id": "kyr4_eRZSY5M",
        "outputId": "3ac19b69-fdb6-4ac1-b1a2-ee5b670c829f",
        "colab": {
          "base_uri": "https://localhost:8080/",
          "height": 295
        }
      },
      "outputs": [
        {
          "output_type": "display_data",
          "data": {
            "text/plain": [
              "<Figure size 432x288 with 1 Axes>"
            ],
            "image/png": "[encoded data removed]"
          },
          "metadata": {
            "needs_background": "light"
          }
        }
      ],
      "source": [
        "def calculateDays(intakeD, outcomeD):\n",
        "  d0 = date(intakeD.year, intakeD.month, intakeD.day)\n",
        "  d1 = date(outcomeD.year, outcomeD.month, outcomeD.day)\n",
        "  return int((d1-d0).days)\n",
        "lost_pets_returned['Days in Shelter'] = lost_pets_returned.apply(lambda x: calculateDays(x['Intake Date'], x['Outcome Date']), axis=1)\n",
        "lost_pets_returned = lost_pets_returned[lost_pets_returned['Days in Shelter']<20]\n",
        "sns.kdeplot(lost_pets_returned['Days in Shelter'], hue='Type', data=lost_pets_returned, common_norm=False)\n",
        "warnings.filterwarnings('ignore')\n",
        "plt.title('Number of days dogs and cats spend on shelter')\n",
        "plt.xlabel('Days')\n",
        "plt.xticks(rotation = 0)\n",
        "plt.ylabel('Density');"
      ],
      "id": "kyr4_eRZSY5M"
    },
    {
      "cell_type": "markdown",
      "metadata": {
        "id": "RI0ymuICc5UW"
      },
      "source": [
        "The number of days that dogs and cats spend in shelter seems to be different. The median stay for both is about 1 day. However, it's more common for dogs to be picked up sooner than cats."
      ],
      "id": "RI0ymuICc5UW"
    },
    {
      "cell_type": "markdown",
      "metadata": {
        "id": "05ea9473"
      },
      "source": [
        "## Conclusions"
      ],
      "id": "05ea9473"
    },
    {
      "cell_type": "markdown",
      "metadata": {
        "id": "OlbDxmx2FH3P"
      },
      "source": [
        "\n",
        "\n",
        "We have learned a plethora of facts from examining the data in the Sonoma Animal Shelter. After cleaning out the data of NA values, we learned that the Animal Shelter typically recieves more males than females, and more dogs than any other species of animal. Chihuahuas are the most popular breed of dog adoptions in numbers, but the highest rate of adoption of dogs for both color and breed were Black and Tan German Shepherds. For cats, Domestic Shorthairs were the most popular by far, and were exclusively chosen when they were kittens or small. For lost pets, the average amount of times a pet will be lost and retreived by the shelter is 3 times, and are typically found relatively healthy or pending. This may be worth exploring later to understand how the animals are rated on their condition. The most common way people find their lost pets are with the internet. While a majority of dogs spend very little time in the shelter, cats seem to stay longer in the shelter.\n",
        "\n",
        "\n"
      ],
      "id": "OlbDxmx2FH3P"
    }
  ],
  "metadata": {
    "colab": {
      "provenance": []
    },
    "kernelspec": {
      "display_name": "Python 3",
      "language": "python",
      "name": "python3"
    },
    "language_info": {
      "codemirror_mode": {
        "name": "ipython",
        "version": 3
      },
      "file_extension": ".py",
      "mimetype": "text/x-python",
      "name": "python",
      "nbconvert_exporter": "python",
      "pygments_lexer": "ipython3",
      "version": "3.8.8"
    }
  },
  "nbformat": 4,
  "nbformat_minor": 5
}